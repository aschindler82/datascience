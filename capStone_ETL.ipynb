{
    "nbformat_minor": 1, 
    "cells": [
        {
            "source": "# Malaria Detection: ETL", 
            "cell_type": "markdown", 
            "metadata": {}
        }, 
        {
            "execution_count": 1, 
            "cell_type": "code", 
            "metadata": {}, 
            "outputs": [
                {
                    "output_type": "stream", 
                    "name": "stdout", 
                    "text": "a2_m1.json\t\t\t       img_7.jpg\r\na2_m1.json.zip\t\t\t       img_8.jpg\r\na2_m1.json.zip.base64\t\t       img_9.jpg\r\na2_m2.json\t\t\t       malaria2.h5\r\na2_m2.json.zip\t\t\t       malaria.h5\r\na2_m2.json.zip.base64\t\t       malaria_history.pickle\r\na2_m3.json\t\t\t       malaria_model.h5\r\na2_m3.json.zip\t\t\t       mnist.onnx\r\na2_m3.json.zip.base64\t\t       model.pickle\r\na2_m4.json\t\t\t       my_modelx.h5\r\na2_m4.json.zip\t\t\t       nix.png\r\na2_m4.json.zip.base64\t\t       predData\r\na.png\t\t\t\t       __pycache__\r\ncell_images\t\t\t       pytorch-mnist.zip\r\ncell-images-for-detecting-malaria.zip  rklib.py\r\ndata\t\t\t\t       rklib.pyc\r\ndl4j-snapshot.jar\t\t       saved_models.pth\r\nimg_1.jpg\t\t\t       save.p\r\nimg_2.jpg\t\t\t       scratch_space\r\nimg_3.jpg\t\t\t       sonar.csv\r\nimg_4.jpg\t\t\t       testData\r\nimg_5.jpg\t\t\t       trainData\r\nimg_6.jpg\r\n"
                }
            ], 
            "source": "# remove old image folder\n!rm -r ./rCell_images\n!ls"
        }, 
        {
            "execution_count": 6, 
            "cell_type": "code", 
            "metadata": {}, 
            "outputs": [
                {
                    "output_type": "stream", 
                    "name": "stdout", 
                    "text": "Collecting python-resize-image\n  Using cached https://files.pythonhosted.org/packages/c7/b5/01e49796187415278796d5c64f8fff750a2e27765155be20876dffaabce3/python_resize_image-1.1.18-py2.py3-none-any.whl\nCollecting requests>=2.19.1 (from python-resize-image)\n  Using cached https://files.pythonhosted.org/packages/7d/e3/20f3d364d6c8e5d2353c72a67778eb189176f08e873c9900e10c0287b84b/requests-2.21.0-py2.py3-none-any.whl\nCollecting Pillow>=5.1.0 (from python-resize-image)\n\u001b[?25l  Downloading https://files.pythonhosted.org/packages/0d/f3/421598450cb9503f4565d936860763b5af413a61009d87a5ab1e34139672/Pillow-5.4.1-cp27-cp27mu-manylinux1_x86_64.whl (2.0MB)\n\u001b[K    100% |\u2588\u2588\u2588\u2588\u2588\u2588\u2588\u2588\u2588\u2588\u2588\u2588\u2588\u2588\u2588\u2588\u2588\u2588\u2588\u2588\u2588\u2588\u2588\u2588\u2588\u2588\u2588\u2588\u2588\u2588\u2588\u2588| 2.0MB 5.1MB/s eta 0:00:01\n\u001b[?25hRequirement already satisfied: chardet<3.1.0,>=3.0.2 in /usr/local/src/bluemix_jupyter_bundle.v105/notebook/lib/python2.7/site-packages (from requests>=2.19.1->python-resize-image) (3.0.3)\nRequirement already satisfied: idna<2.9,>=2.5 in /usr/local/src/bluemix_jupyter_bundle.v105/notebook/lib/python2.7/site-packages (from requests>=2.19.1->python-resize-image) (2.6)\nRequirement already satisfied: certifi>=2017.4.17 in /usr/local/src/bluemix_jupyter_bundle.v105/notebook/lib/python2.7/site-packages (from requests>=2.19.1->python-resize-image) (2018.11.29)\nRequirement already satisfied: urllib3<1.25,>=1.21.1 in /usr/local/src/bluemix_jupyter_bundle.v105/notebook/lib/python2.7/site-packages (from requests>=2.19.1->python-resize-image) (1.22)\n\u001b[31mtensorflow 1.2.1 has requirement bleach==1.5.0, but you'll have bleach 2.0.0 which is incompatible.\u001b[0m\n\u001b[31mtensorflow 1.2.1 has requirement html5lib==0.9999999, but you'll have html5lib 0.999999999 which is incompatible.\u001b[0m\n\u001b[31mibm-cos-sdk-core 2.0.1 has requirement requests<=2.18.4,>=2.12.0, but you'll have requests 2.21.0 which is incompatible.\u001b[0m\nInstalling collected packages: requests, Pillow, python-resize-image\nSuccessfully installed Pillow-5.4.1 python-resize-image-1.1.18 requests-2.21.0\n"
                }
            ], 
            "source": "# install resize image\n!pip install python-resize-image"
        }, 
        {
            "execution_count": 7, 
            "cell_type": "code", 
            "metadata": {}, 
            "outputs": [
                {
                    "output_type": "stream", 
                    "name": "stdout", 
                    "text": "Created ./rCell_images\nCreated ./rCell_images/Parasitized\nCreated ./rCell_images/Uninfected\n"
                }, 
                {
                    "output_type": "stream", 
                    "name": "stderr", 
                    "text": "100%|\u2588\u2588\u2588\u2588\u2588\u2588\u2588\u2588\u2588\u2588| 27558/27558 [03:28<00:00, 132.41it/s]\n"
                }
            ], 
            "source": "# We will use a convolutional deep net for image classification\n# Based on data exploration I decided to resize each image to 64x64 px\n# which will be the input layer size of the net\n# We will keep each image's image ratio and pad its background with 0s if needed\n\nimport tqdm\nimport numpy as np\nfrom PIL import Image\nimport zipfile\nfrom resizeimage import resizeimage\n\nimgSize = [64,64]\n\nresDataDir = './rCell_images'\n\nsDirs = ['Parasitized', 'Uninfected']\n\nif not os.path.isdir(resDataDir):\n    os.mkdir(resDataDir)\n    print('Created {}'.format(resDataDir))\n\nfor sD in sDirs:\n    dir2make = os.path.join(resDataDir, sD)\n    if not os.path.isdir(dir2make):\n        os.mkdir(dir2make)\n        print('Created {}'.format(dir2make))\n\nzipRef = zipfile.ZipFile('./cell-images-for-detecting-malaria.zip')\ncFiles = zipRef.namelist()\ncImgs  = [s for s in cFiles if \"png\" in s]\n\nprobImgs = []\n\nfor i in tqdm.trange(len(cImgs)):\n#for i in tqdm.trange(10):\n    cImg = cImgs[i]\n    \n    zImg = zipRef.open(cImg)\n    \n    if \"Parasitized\" in cImg:\n        #print(\"Sepp\")\n        cDir = 'Parasitized'\n\n    elif \"Uninfected\" in cImg:\n        #print(\"Schorsch\")\n        cDir = 'Uninfected'\n    \n    fImg = os.path.join(resDataDir, cDir, \"r\"+os.path.basename(cImg))  \n    \n    #resize image\n    try:                \n        imgObj = Image.open(zImg)                         \n        imgObj = resizeimage.resize_contain(imgObj, imgSize, resample=Image.LANCZOS, bg_color=(0, 0, 0, 0))\n        imgObj.save(fImg)\n        imgObj.close()\n    except:\n        print('Could not work on {}'.format(cImg))\n        probImgs.append(cImg)\n            \n\nzipRef.close()"
        }, 
        {
            "source": "The following three cells are a workaround to get a few files resized I had issues with. Due to a strange bug I was not able to cycle over a subset of image and do the resizing automatically.\n", 
            "cell_type": "markdown", 
            "metadata": {}
        }, 
        {
            "execution_count": 8, 
            "cell_type": "code", 
            "metadata": {}, 
            "outputs": [
                {
                    "output_type": "stream", 
                    "name": "stdout", 
                    "text": "No problem images found -> skipping this step\n"
                }
            ], 
            "source": "# open \"problem\" images\n\nimport matplotlib.pyplot as plt\n\nzs = []\n\nif len(probImgs) > 0:\n    zipRef = zipfile.ZipFile('./cell-images-for-detecting-malaria.zip')\n\n    zs = []\n    for p in probImgs:\n        z = zipRef.open(p)\n        i = Image.open(z)\n        zs.append(i)\nelse:\n    print('No problem images found -> skipping this step')"
        }, 
        {
            "source": "The next step is curious indeed and likely caused by a bug in the PIL linbrary. <br>\nThis step is skipped if all images were correctly resized above!\n<br><br>\nI had to alternate between the next following two cells, which contain the **identical** code to get the last 12 images manually resized: Manually increment k and alternate between cells for each image ...<br><br> This must be a currious bug or interaction between the jupiter notebook and the PIL library that results in different behaviour for the **identical** code that depends on the cell that executes it ...", 
            "cell_type": "markdown", 
            "metadata": {}
        }, 
        {
            "execution_count": 9, 
            "cell_type": "code", 
            "metadata": {}, 
            "outputs": [
                {
                    "output_type": "stream", 
                    "name": "stdout", 
                    "text": "No problem images found -> skipping this step\n"
                }
            ], 
            "source": "# identical code as next cell\n# I had to call both in a alternating way to workaround\n# a very strange bug\nif len(probImgs) > 0:\n    k = 10\n    cImg = probImgs[k]\n    if \"Parasitized\" in cImg:\n        #print(\"Sepp\")\n        cDir = 'Parasitized'\n\n    elif \"Uninfected\" in cImg:\n        #print(\"Schorsch\")\n        cDir = 'Uninfected'\n\n    fImg = os.path.join(resDataDir, cDir, \"r\"+os.path.basename(cImg))  \n\n    #resize image\n\n    imgObj = resizeimage.resize_contain(zs[k], imgSize, resample=Image.LANCZOS, bg_color=(0, 0, 0, 0))\n    imgObj.save(fImg)\n    imgObj.close()\n    \n    print(cImg)\n    print(fImg)\n        \n    plt.imshow(zs[k])\n    \nelse:\n    print('No problem images found -> skipping this step')"
        }, 
        {
            "execution_count": 10, 
            "cell_type": "code", 
            "metadata": {}, 
            "outputs": [
                {
                    "output_type": "stream", 
                    "name": "stdout", 
                    "text": "No problem images found -> skipping this step\n"
                }
            ], 
            "source": "if len(probImgs) > 0:\n    k = 12\n    cImg = probImgs[k]\n    if \"Parasitized\" in cImg:\n        #print(\"Sepp\")\n        cDir = 'Parasitized'\n\n    elif \"Uninfected\" in cImg:\n        #print(\"Schorsch\")\n        cDir = 'Uninfected'\n\n    fImg = os.path.join(resDataDir, cDir, \"r\"+os.path.basename(cImg))  \n\n    #resize image\n\n    imgObj = resizeimage.resize_contain(zs[k], imgSize, resample=Image.LANCZOS, bg_color=(0, 0, 0, 0))\n    imgObj.save(fImg)\n    imgObj.close()\n    \n    print(cImg)\n    print(fImg)\n        \n    plt.imshow(zs[k])\n    \nelse:\n    print('No problem images found -> skipping this step')"
        }, 
        {
            "execution_count": 11, 
            "cell_type": "code", 
            "metadata": {}, 
            "outputs": [
                {
                    "output_type": "stream", 
                    "name": "stdout", 
                    "text": "13779\n13779\n"
                }
            ], 
            "source": "# get counts of resized parasitized and uninfected images\n# to make sure we have equally many images in either folder\n# We should end up with 13779 per category\np = os.listdir('rCell_images/Parasitized')\npI = [s for s in p if \"png\" in s]\n\nu = os.listdir('rCell_images/Uninfected')\nuI = [s for s in u if \"png\" in s]\n\nprint( len(uI) )\nprint( len(pI) )"
        }, 
        {
            "execution_count": null, 
            "cell_type": "code", 
            "metadata": {}, 
            "outputs": [], 
            "source": "# we next split our images in three parts: training (70%), testing(20%) and evaluation(10%)\n# images are copied into three folders with subdirectories for either class\n# this allows us to directly load our data using the keras image processor library, later on\n\nimport os\nimport shutil\nfrom tqdm import trange\nfrom random import shuffle\nimport collections\n\n# define split ratios\n# sum up to 1\ntrData  = 0.7\nteData  = 0.2\nprData  = 0.1\n\n# source directory with scaled  images\ndataDir = './rCell_images'\n\n# target directories\ntrainDir = './trainData'\ntestDir  = './testData'\npredDir  = './predData'\n\n# delete old dirs in case they exist\ntry:\n    shutil.rmtree(trainDir)\n    shutil.rmtree(testDir)\n    shutil.rmtree(predDir)\nexcept:\n    print('No previous dirs found')\n\n# create new folders\nos.mkdir(trainDir)\nos.mkdir(testDir)\nos.mkdir(predDir)\n\n# for each image class: assign images to training, testing and evaluation data\nfor sDir in os.listdir(dataDir):\n    cDir   = os.path.join(dataDir, sDir)    \n    cFiles = os.listdir(cDir)\n               \n    allInds = list(range(len(cFiles)))\n    shuffle(allInds)    \n    \n    trainInds = allInds[0:round(len(cFiles)*trData)]\n    testInds  = allInds[round(len(cFiles)*trData):round(len(cFiles)*trData)+round(len(cFiles)*teData)]\n    predInds  = allInds[round(len(cFiles)*trData)+round(len(cFiles)*teData):]\n    \n    combInds = trainInds + testInds + predInds\n    print('Working on {} images--------------------------'.format(sDir))\n    print('Copying {} images to training dir'.format(len( trainInds )))\n    print('Copying {} images to test dir'.format(len( testInds  )))\n    print('Copying {} images to prediction dir'.format( len( predInds  )))\n    print('Overlapping images between folders: {}'.format( len([item for item, count in collections.Counter(combInds).items() if count > 1])) )\n    print('All copied images will sum up to {} (all images = {})'.format(len(combInds), len(allInds)))\n    \n    \n    # copy training data\n    os.mkdir( os.path.join(trainDir, sDir) )\n    bar = trange(len(trainInds))\n    for cImg in trainInds:\n        bar.update()\n        shutil.copy(os.path.join(cDir, cFiles[cImg]) , os.path.join(trainDir,sDir))\n\n    # copy testing data\n    os.mkdir( os.path.join(testDir, sDir) )        \n    bar = trange(len(testInds))\n    for cImg in testInds:\n        bar.update()\n        shutil.copy(os.path.join(cDir, cFiles[cImg]) , os.path.join(testDir,sDir))\n    \n    # copy prediction data\n    os.mkdir( os.path.join(predDir, sDir) )\n    bar = trange(len(predInds))\n    for cImg in predInds:\n        bar.update()\n        shutil.copy(os.path.join(cDir, cFiles[cImg]) , os.path.join(predDir,sDir))"
        }, 
        {
            "execution_count": null, 
            "cell_type": "code", 
            "metadata": {}, 
            "outputs": [], 
            "source": ""
        }
    ], 
    "metadata": {
        "kernelspec": {
            "display_name": "Python 2 with Spark 2.1", 
            "name": "python2-spark21", 
            "language": "python"
        }, 
        "language_info": {
            "mimetype": "text/x-python", 
            "nbconvert_exporter": "python", 
            "version": "2.7.14", 
            "name": "python", 
            "file_extension": ".py", 
            "pygments_lexer": "ipython2", 
            "codemirror_mode": {
                "version": 2, 
                "name": "ipython"
            }
        }
    }, 
    "nbformat": 4
}